{
 "cells": [
  {
   "cell_type": "markdown",
   "id": "4d382467",
   "metadata": {},
   "source": [
    "### Comparison with State-of-the-Art Multimodal Models\n",
    "\n",
    "We compare the performance of our proposed method **SAMVAE** against several state-of-the-art multimodal survival models on breast cancer, using C-index as the evaluation metric across 5 folds. For each model, we report the mean and standard deviation, as well as the Bonferroni-corrected p-value obtained from statistical comparisons against the best-performing model **BioFusionNet**.\n",
    "\n",
    "The performance values for all baseline models, including **BioFusionNet**, are as reported in https://doi.org/10.1109/jbhi.2024.3418341\n"
   ]
  },
  {
   "cell_type": "code",
   "execution_count": 8,
   "id": "3ff7c8c1",
   "metadata": {},
   "outputs": [
    {
     "name": "stdout",
     "output_type": "stream",
     "text": [
      "                    Mean ± Std  Bonferroni corrected\n",
      "SAMVAE           0.699 ± 0.065                 0.705\n",
      "MultiSurv        0.626 ± 0.072                 0.057\n",
      "MultiDeepCox-SC  0.604 ± 0.088                 0.072\n",
      "HFBSurv          0.536 ± 0.073                 0.004\n",
      "PathomicFusion   0.516 ± 0.080                 0.005\n",
      "MCAT             0.700 ± 0.043                 0.366\n",
      "TransSurv        0.686 ± 0.047                 0.207\n",
      "BioFusionNet     0.768 ± 0.051                 1.000\n"
     ]
    }
   ],
   "source": [
    "import pickle\n",
    "import numpy as np\n",
    "import pandas as pd\n",
    "from scipy.stats import ttest_ind_from_stats\n",
    "from statsmodels.stats.multitest import multipletests\n",
    "\n",
    "# Load results\n",
    "file_path = '../results/Final_Combinations/Survival_Analysis/brca/clinical_omic_cnv_wsi_patches_15_patch/5_folds_1_batch_size/best_results.pkl'\n",
    "with open(file_path, 'rb') as f:\n",
    "    results = pickle.load(f)\n",
    "\n",
    "# Extract and process central C-index values\n",
    "best_cis = results['best_cis']\n",
    "fold_central_values = [[ci[0][1] for ci in fold] for fold in best_cis]\n",
    "seeds_central = list(zip(*fold_central_values))\n",
    "seed_means = [np.mean(seed_vals) for seed_vals in seeds_central]\n",
    "best_seed_idx = int(np.argmax(seed_means))\n",
    "samvae_values = list(seeds_central[best_seed_idx])\n",
    "\n",
    "# Create dict with 5-fold C-index values\n",
    "c_index_data = {\n",
    "    'SAMVAE': samvae_values[:5],\n",
    "    \"MultiSurv\": [0.71, 0.59, 0.60, 0.69, 0.54],\n",
    "    \"MultiDeepCox-SC\": [0.71, 0.68, 0.55, 0.58, 0.50],\n",
    "    \"HFBSurv\": [0.58, 0.47, 0.56, 0.45, 0.62],\n",
    "    \"PathomicFusion\": [0.63, 0.43, 0.56, 0.50, 0.46],\n",
    "    \"MCAT\": [0.71, 0.69, 0.64, 0.70, 0.76],\n",
    "    \"TransSurv\": [0.70, 0.61, 0.69, 0.69, 0.74],\n",
    "    \"BioFusionNet\": [0.78, 0.71, 0.72, 0.81, 0.82],\n",
    "}\n",
    "\n",
    "# Create DataFrame and compute mean & std\n",
    "df = pd.DataFrame(c_index_data)\n",
    "mean_std = df.agg(['mean', 'std']).T\n",
    "mean_std['Mean ± Std'] = mean_std.apply(lambda row: f\"{row['mean']:.3f} ± {row['std']:.3f}\", axis=1)\n",
    "\n",
    "# Prepare for t-tests against BioFusionNet\n",
    "n = 5\n",
    "stats = {model: (row['mean'], row['std']) for model, row in mean_std.iterrows()}\n",
    "bio_mean, bio_std = stats['BioFusionNet']\n",
    "raw_pvals = []\n",
    "models = []\n",
    "\n",
    "for model, (mean, std) in stats.items():\n",
    "    if model == 'BioFusionNet':\n",
    "        continue\n",
    "    t_stat, p_val = ttest_ind_from_stats(mean1=bio_mean, std1=bio_std, nobs1=n,\n",
    "                                         mean2=mean, std2=std, nobs2=n,\n",
    "                                         equal_var=False)\n",
    "    raw_pvals.append(p_val)\n",
    "    models.append(model)\n",
    "\n",
    "# Apply Bonferroni correction\n",
    "_, pvals_corrected, _, _ = multipletests(raw_pvals, alpha=0.05, method='bonferroni')\n",
    "bonferroni_dict = dict(zip(models, np.round(pvals_corrected, 3)))\n",
    "bonferroni_dict['BioFusionNet'] = 1.000  # Replace NaN with 1.000\n",
    "\n",
    "# Merge and display final result\n",
    "mean_std['Bonferroni corrected'] = mean_std.index.map(bonferroni_dict)\n",
    "final_df = mean_std[['Mean ± Std', 'Bonferroni corrected']]\n",
    "print(final_df)\n"
   ]
  }
 ],
 "metadata": {
  "kernelspec": {
   "display_name": "myenv310",
   "language": "python",
   "name": "python3"
  },
  "language_info": {
   "codemirror_mode": {
    "name": "ipython",
    "version": 3
   },
   "file_extension": ".py",
   "mimetype": "text/x-python",
   "name": "python",
   "nbconvert_exporter": "python",
   "pygments_lexer": "ipython3",
   "version": "3.10.13"
  }
 },
 "nbformat": 4,
 "nbformat_minor": 5
}
