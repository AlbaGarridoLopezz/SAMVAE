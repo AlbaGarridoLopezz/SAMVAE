{
 "cells": [
  {
   "cell_type": "markdown",
   "id": "6287ce57",
   "metadata": {},
   "source": [
    "# SAMVAE - Experiments Configuration Guide"
   ]
  },
  {
   "cell_type": "markdown",
   "id": "b5787858",
   "metadata": {},
   "source": [
    "This model allows flexible configuration for training survival models using clinical, omic, and WSI (Whole Slide Image) data from Breast Cancer (BRCA) and Lower Grade Glioma (LGG) cohorts.\n",
    "\n",
    "You must specify which modalities you want to use in a JSON configuration (datasets.json), with the following keys:\n",
    "\n",
    "- clinical_dataset\n",
    "- omic_dataset\n",
    "- wsi_dataset\n",
    "- time_event (mandatory)\n",
    "\n",
    "EEach key should be assigned either:\n",
    "- a list of dataset names (to include them), or\n",
    "- null if the modality is not used.\n",
    "\n",
    "A file named combinations.json is provided, which lists possible valid combinations of modalities and datasets that can be used. This can serve as a reference or starting point for your own configurations. See the table with the available datasets:"
   ]
  },
  {
   "cell_type": "markdown",
   "id": "bbffa724",
   "metadata": {},
   "source": [
    "| **Modality**                    | **BRCA**                                                          | **LGG**                                                       |\n",
    "| ------------------------------- | ----------------------------------------------------------------- | ------------------------------------------------------------- |\n",
    "| **Clinical (Survival)**         | `brca_clinical`                                                   | `lgg_clinical`                                                |\n",
    "| **Clinical (Competing Risks)**  | `brca_clinical_cr`                                                | `lgg_clinical_cr`                                             |\n",
    "| **DNA Methylation**             | `brca_adn`                                                        | `lgg_adn`                                                     |\n",
    "| **microRNA**                    | `brca_miRNA`                                                      | `lgg_miRNA`                                                   |\n",
    "| **RNAseq**                      | `brca_RNAseq`                                                     | `lgg_RNAseq`                                                  |\n",
    "| **Copy Number Variation (CNV)** | `brca_cnv`                                                        | `lgg_cnv`                                                     |\n",
    "| **WSI (Whole Slide Images)**    | `brca_wsi`, `brca_CLAM_mask`, `brca_CLAM_heatmap`, `brca_patches` | `lgg_wsi`, `lgg_CLAM_mask`, `lgg_CLAM_heatmap`, `lgg_patches` |\n",
    "| **Time/Event (Survival)**       | `brca_time_event`                                                 | `lgg_time_event`                                              |\n",
    "| **Time/Event (Competing Risks)**| `brca_time_event_cr`                                              | `lgg_time_event_cr`                                           |"
   ]
  },
  {
   "cell_type": "markdown",
   "id": "51ab1e00",
   "metadata": {},
   "source": [
    "# Notes\n",
    "- You can combine one or more modalities depending on your experiment. \n",
    "- You can perform hyperparameter optimization either in unimodal mode or by combining other modalities with clinical data. In our case, we conducted hyperparameter searches for the omic and WSI (Whole Slide Image) modalities in the presence of clinical data. Once the optimal hyperparameters are identified, they can be fixed and used to train the full multimodal model. This ensures that the final model benefits from a well-optimized configuration that generalizes across modalities.\n",
    "- time_event must always be specified and should match the cohort (e.g., brca_time_event or lgg_time_event).\n",
    "- If using competing risks models, make sure to select *_clinical_cr and *_time_event_cr datasets.\n",
    "- For the WSI modality, we used the patch-based representation to enable experiments with multiple image instances per patient, which better captures intra-patient variability. Other image formats, such as CLAM masks and heatmaps, were used in intermediate tests but were not the primary focus of our experiments."
   ]
  },
  {
   "cell_type": "code",
   "execution_count": null,
   "id": "256f36e9",
   "metadata": {},
   "outputs": [],
   "source": [
    "# Example 1: Training on BRCA clinical + WSI data (Survival Analysis) \n",
    "[\n",
    "    {\n",
    "    \"clinical_dataset\": [\"brca_clinical\"],\n",
    "    \"omic_dataset\": null,\n",
    "    \"wsi_dataset\": [\"brca_patches\"],\n",
    "    \"time_event\": [\"brca_time_event\"]\n",
    "    }\n",
    "]"
   ]
  },
  {
   "cell_type": "code",
   "execution_count": null,
   "id": "88b65748",
   "metadata": {},
   "outputs": [],
   "source": [
    "# Example 2: Training on LGG clinical + microRNA + RNAseq + WSI data (Competing Risks)\n",
    "[\n",
    "    {\n",
    "    \"clinical_dataset\": [\"lgg_clinical_cr\"],\n",
    "    \"omic_dataset\": [\"lgg_miRNA\", \"lgg_RNAseq\"],\n",
    "    \"wsi_dataset\": [\"lgg_patches\"],\n",
    "    \"time_event\": [\"lgg_time_event_cr\"]\n",
    "    }\n",
    "]"
   ]
  },
  {
   "cell_type": "markdown",
   "id": "ced60851",
   "metadata": {},
   "source": [
    "In the utils.py file, under # Training and testing configurations, you can adjust several key parameters depending on your experimental setup:"
   ]
  },
  {
   "cell_type": "code",
   "execution_count": null,
   "id": "019b2234",
   "metadata": {},
   "outputs": [],
   "source": [
    "args['train'] = True\n",
    "args['eval'] = True\n",
    "args['hyperparameter_optimization'] = True\n",
    "args['optimizer_with_clinical'] = True   \n",
    "args['batch_size'] = 512\n",
    "args['n_threads'] = 1\n",
    "args['n_seeds'] = 10   \n",
    "args['N_wsi'] = 15\n"
   ]
  },
  {
   "cell_type": "markdown",
   "id": "ac894488",
   "metadata": {},
   "source": [
    "- You can set args['train'], args['eval'], args['hyperparameter_optimization'] and args['optimizer_with_clinical']  to True or False depending on whether you want to enable training, evaluation, or hyperparameter optimization.\n",
    "- The default batch_size is set to 512, except when using image data (e.g., WSI), in which case a lower batch size (e.g., 50) is used due to computational limitations. If you are using multiple images per patient, it is recommended to reduce the batch size further to avoid GPU memory issues.\n",
    "- Similarly, n_threads should be kept low (e.g., 1) when using large images, again due to memory constraints on our GPU.\n",
    "- The n_seeds parameter controls the number of random seeds used for reproducibility. We use 5 seeds for regular experiments and 10 seeds for final model combinations.\n",
    "- The N_wsi parameter sets the number of images per patient used during training. We have tested the model with 1, 5, 10, and 15 WSI patches to evaluate the impact of this hyperparameter.\n",
    "\n"
   ]
  }
 ],
 "metadata": {
  "language_info": {
   "name": "python"
  }
 },
 "nbformat": 4,
 "nbformat_minor": 5
}
